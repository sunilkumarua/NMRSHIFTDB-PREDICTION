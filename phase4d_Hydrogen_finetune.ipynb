{
 "cells": [
  {
   "cell_type": "code",
   "execution_count": 1,
   "id": "b32ef65d",
   "metadata": {},
   "outputs": [
    {
     "name": "stdout",
     "output_type": "stream",
     "text": [
      "Hydrogen samples: 286\n",
      "Ridge α=10      | R²=0.257 | RMSE=27.99 | MAE=13.10\n",
      "Ridge α=100     | R²=0.085 | RMSE=31.06 | MAE=13.41\n",
      "Ridge α=500     | R²=0.021 | RMSE=32.13 | MAE=14.24\n",
      "RF n=300        | R²=0.515 | RMSE=22.62 | MAE=9.13\n",
      "RF n=500        | R²=0.513 | RMSE=22.65 | MAE=9.15\n"
     ]
    },
    {
     "data": {
      "text/html": [
       "<div>\n",
       "<style scoped>\n",
       "    .dataframe tbody tr th:only-of-type {\n",
       "        vertical-align: middle;\n",
       "    }\n",
       "\n",
       "    .dataframe tbody tr th {\n",
       "        vertical-align: top;\n",
       "    }\n",
       "\n",
       "    .dataframe thead th {\n",
       "        text-align: right;\n",
       "    }\n",
       "</style>\n",
       "<table border=\"1\" class=\"dataframe\">\n",
       "  <thead>\n",
       "    <tr style=\"text-align: right;\">\n",
       "      <th></th>\n",
       "      <th>Model</th>\n",
       "      <th>R2</th>\n",
       "      <th>RMSE</th>\n",
       "      <th>MAE</th>\n",
       "    </tr>\n",
       "  </thead>\n",
       "  <tbody>\n",
       "    <tr>\n",
       "      <th>0</th>\n",
       "      <td>Ridge α=10</td>\n",
       "      <td>0.257097</td>\n",
       "      <td>27.989045</td>\n",
       "      <td>13.100787</td>\n",
       "    </tr>\n",
       "    <tr>\n",
       "      <th>1</th>\n",
       "      <td>Ridge α=100</td>\n",
       "      <td>0.085380</td>\n",
       "      <td>31.055762</td>\n",
       "      <td>13.405729</td>\n",
       "    </tr>\n",
       "    <tr>\n",
       "      <th>2</th>\n",
       "      <td>Ridge α=500</td>\n",
       "      <td>0.020821</td>\n",
       "      <td>32.133128</td>\n",
       "      <td>14.237205</td>\n",
       "    </tr>\n",
       "    <tr>\n",
       "      <th>3</th>\n",
       "      <td>RF n=300</td>\n",
       "      <td>0.514967</td>\n",
       "      <td>22.615564</td>\n",
       "      <td>9.131445</td>\n",
       "    </tr>\n",
       "    <tr>\n",
       "      <th>4</th>\n",
       "      <td>RF n=500</td>\n",
       "      <td>0.513398</td>\n",
       "      <td>22.652120</td>\n",
       "      <td>9.151254</td>\n",
       "    </tr>\n",
       "  </tbody>\n",
       "</table>\n",
       "</div>"
      ],
      "text/plain": [
       "         Model        R2       RMSE        MAE\n",
       "0   Ridge α=10  0.257097  27.989045  13.100787\n",
       "1  Ridge α=100  0.085380  31.055762  13.405729\n",
       "2  Ridge α=500  0.020821  32.133128  14.237205\n",
       "3     RF n=300  0.514967  22.615564   9.131445\n",
       "4     RF n=500  0.513398  22.652120   9.151254"
      ]
     },
     "execution_count": 1,
     "metadata": {},
     "output_type": "execute_result"
    }
   ],
   "source": [
    "import pandas as pd\n",
    "import numpy as np\n",
    "from pathlib import Path\n",
    "from sklearn.model_selection import train_test_split\n",
    "from sklearn.linear_model import Ridge\n",
    "from sklearn.ensemble import RandomForestRegressor\n",
    "from sklearn.metrics import r2_score, mean_absolute_error, mean_squared_error\n",
    "from math import sqrt\n",
    "\n",
    "ROOT = Path(r\"C:\\DOCTORAL HUB\\nmr_pipeline_project\")\n",
    "\n",
    "# Load enhanced dataset\n",
    "df = pd.read_csv(ROOT / \"data/merged/merged_phase3_clean.csv\")\n",
    "\n",
    "# Filter hydrogen atoms only\n",
    "h_df = df[df[\"element_y\"] == \"H\"].copy()\n",
    "print(\"Hydrogen samples:\", len(h_df))\n",
    "\n",
    "# Feature & target prep\n",
    "non_features = [\"mol_idx\", \"atom_index\", \"element_x\", \"element_y\", \"shift_ppm_x\", \"shift_ppm_y\"]\n",
    "feature_cols = [c for c in h_df.columns if c not in non_features and np.issubdtype(h_df[c].dtype, np.number)]\n",
    "X = h_df[feature_cols].fillna(0).values\n",
    "y = h_df[\"shift_ppm_y\"].values\n",
    "\n",
    "# Split data\n",
    "X_train, X_test, y_train, y_test = train_test_split(X, y, test_size=0.2, random_state=42)\n",
    "\n",
    "# Helper function\n",
    "def evaluate(model, label):\n",
    "    model.fit(X_train, y_train)\n",
    "    y_pred = model.predict(X_test)\n",
    "    r2 = r2_score(y_test, y_pred)\n",
    "    rmse = sqrt(mean_squared_error(y_test, y_pred))\n",
    "    mae = mean_absolute_error(y_test, y_pred)\n",
    "    print(f\"{label:15} | R²={r2:.3f} | RMSE={rmse:.2f} | MAE={mae:.2f}\")\n",
    "    return {\"Model\": label, \"R2\": r2, \"RMSE\": rmse, \"MAE\": mae}\n",
    "\n",
    "results = []\n",
    "\n",
    "# Ridge test with stronger regularization\n",
    "for alpha in [10, 100, 500]:\n",
    "    ridge = Ridge(alpha=alpha)\n",
    "    results.append(evaluate(ridge, f\"Ridge α={alpha}\"))\n",
    "\n",
    "# Random Forest test\n",
    "for n in [300, 500]:\n",
    "    rf = RandomForestRegressor(n_estimators=n, random_state=42, n_jobs=-1)\n",
    "    results.append(evaluate(rf, f\"RF n={n}\"))\n",
    "\n",
    "pd.DataFrame(results)\n"
   ]
  },
  {
   "cell_type": "code",
   "execution_count": 2,
   "id": "6f857db2",
   "metadata": {},
   "outputs": [
    {
     "data": {
      "text/plain": [
       "['C:\\\\DOCTORAL HUB\\\\nmr_pipeline_project\\\\results\\\\model_H_Ridge_tuned.joblib']"
      ]
     },
     "execution_count": 2,
     "metadata": {},
     "output_type": "execute_result"
    }
   ],
   "source": [
    "import joblib\n",
    "joblib.dump(rf, ROOT / \"results/model_H_RF_tuned.joblib\")\n",
    "joblib.dump(ridge, ROOT / \"results/model_H_Ridge_tuned.joblib\")\n"
   ]
  },
  {
   "cell_type": "code",
   "execution_count": null,
   "id": "74b6fd39",
   "metadata": {},
   "outputs": [],
   "source": []
  },
  {
   "cell_type": "code",
   "execution_count": null,
   "id": "4b3e446f",
   "metadata": {},
   "outputs": [],
   "source": []
  },
  {
   "cell_type": "code",
   "execution_count": null,
   "id": "c8990d31",
   "metadata": {},
   "outputs": [],
   "source": []
  },
  {
   "cell_type": "code",
   "execution_count": null,
   "id": "b5b44cde",
   "metadata": {},
   "outputs": [],
   "source": []
  }
 ],
 "metadata": {
  "kernelspec": {
   "display_name": "nmr_pipeline",
   "language": "python",
   "name": "python3"
  },
  "language_info": {
   "codemirror_mode": {
    "name": "ipython",
    "version": 3
   },
   "file_extension": ".py",
   "mimetype": "text/x-python",
   "name": "python",
   "nbconvert_exporter": "python",
   "pygments_lexer": "ipython3",
   "version": "3.10.19"
  }
 },
 "nbformat": 4,
 "nbformat_minor": 5
}
